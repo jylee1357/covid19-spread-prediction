{
 "cells": [
  {
   "cell_type": "code",
   "execution_count": 1,
   "metadata": {},
   "outputs": [],
   "source": [
    "import numpy as np\n",
    "import pandas as pd\n",
    "import matplotlib.pyplot as plt\n",
    "from matplotlib.legend_handler import HandlerLine2D\n",
    "from sklearn.linear_model import LinearRegression\n",
    "from sklearn.model_selection import train_test_split\n",
    "from sklearn.preprocessing import PolynomialFeatures\n",
    "from sklearn.preprocessing import StandardScaler, MinMaxScaler"
   ]
  },
  {
   "cell_type": "code",
   "execution_count": 2,
   "metadata": {},
   "outputs": [
    {
     "name": "stdout",
     "output_type": "stream",
     "text": [
      "(51, 2)\n",
      "AK\n"
     ]
    }
   ],
   "source": [
    "# Array for state name abbreviation\n",
    "\n",
    "States = np.array([['Alabama', 'AL'], ['Alaska', 'AK'], ['Arizona', 'AZ'], ['Arkansas', 'AR'], ['California', 'CA'], ['Colorado', 'CO'],\n",
    "    ['Connecticut', 'CT'], ['Delaware', 'DE'], ['District of Columbia', 'DC'], ['Florida', 'FL'], ['Georgia', 'GA'],\n",
    "    ['Hawaii', 'HI'], ['Idaho', 'ID'], ['Illinois', 'IL'], ['Indiana', 'IN'], ['Iowa', 'IA'], ['Kansas', 'KS'], ['Kentucky', 'KY'],\n",
    "    ['Louisiana', 'LA'], ['Maine', 'ME'], ['Maryland', 'MD'], ['Massachusetts', 'MA'], ['Michigan', 'MI'], ['Minnesota', 'MN'],\n",
    "    ['Mississippi', 'MS'], ['Missouri', 'MO'], ['Montana', 'MT'], ['Nebraska', 'NE'], ['Nevada', 'NV'], ['New Hampshire', 'NH'],\n",
    "    ['New Jersey', 'NJ'], ['New Mexico', 'NM'], ['New York', 'NY'], ['North Carolina', 'NC'], ['North Dakota', 'ND'],\n",
    "    ['Ohio', 'OH'], ['Oklahoma', 'OK'], ['Oregon', 'OR'], ['Pennsylvania', 'PA'], ['Rhode Island', 'RI'], ['South Carolina', 'SC'],\n",
    "    ['South Dakota', 'SD'], ['Tennessee', 'TN'], ['Texas', 'TX'], ['Utah', 'UT'], ['Vermont', 'VT'], ['Virginia', 'VA'], \n",
    "    ['Washington', 'WA'], ['West Virginia', 'WV'], ['Wisconsin', 'WI'], ['Wyoming', 'WY']])\n",
    "print(States.shape)\n",
    "print(States[1,1])"
   ]
  },
  {
   "cell_type": "code",
   "execution_count": 3,
   "metadata": {},
   "outputs": [
    {
     "name": "stdout",
     "output_type": "stream",
     "text": [
      "(140, 18)\n",
      "(3244, 87)\n",
      "(3255, 99)\n"
     ]
    }
   ],
   "source": [
    "# calling data \n",
    "\n",
    "r1_file = '4.18states.csv'\n",
    "dfc = pd.read_csv(r1_file)   \n",
    "r2_file ='abridged_couties.csv'\n",
    "dfp = pd.read_csv(r2_file)  \n",
    "r_file = 'time_series_covid19_confirmed_US.csv'\n",
    "df = pd.read_csv(r_file)     # df time series\n",
    "print(dfc.shape)\n",
    "print(dfp.shape)\n",
    "print(df.shape)"
   ]
  },
  {
   "cell_type": "code",
   "execution_count": 4,
   "metadata": {},
   "outputs": [
    {
     "name": "stdout",
     "output_type": "stream",
     "text": [
      "(59, 3)\n",
      "59\n",
      "Alaska\n"
     ]
    }
   ],
   "source": [
    "# extract 'US' and 'required columns' in '4.18states.csv'  \n",
    "\n",
    "dfc_us = dfc.loc[dfc['Country_Region']=='US', ['Province_State', 'Confirmed','People_Tested']]\n",
    "print(dfc_us.shape)\n",
    "print(len(dfc_us))\n",
    "print(dfc_us.iloc[1,0])"
   ]
  },
  {
   "cell_type": "code",
   "execution_count": 5,
   "metadata": {},
   "outputs": [],
   "source": [
    "# extract 'StateName' and 'required columns' in 'abridged_couties.csv'\n",
    "\n",
    "dfp_s = dfp.loc[ (dfp['PopulationEstimate2018']>0), ['StateName', 'PopulationEstimate2018']]\n",
    "#print(dfp_s.shape)\n",
    "#print(dfp_s)\n",
    "### summation by 'StateName' and convert to numpy()\n",
    "dfp_s_sum = dfp_s.groupby(['StateName']).sum().reset_index().to_numpy()   # sum sorted data. maintain 'StateName' as a key\n",
    "#print(dfp_s_sum)"
   ]
  },
  {
   "cell_type": "code",
   "execution_count": 6,
   "metadata": {},
   "outputs": [
    {
     "name": "stdout",
     "output_type": "stream",
     "text": [
      "<bound method NDFrame.head of                 Province_State  1/22/20  1/23/20  1/24/20  1/25/20  1/26/20  \\\n",
      "0               American Samoa        0        0        0        0        0   \n",
      "1                         Guam        0        0        0        0        0   \n",
      "2     Northern Mariana Islands        0        0        0        0        0   \n",
      "3                  Puerto Rico        0        0        0        0        0   \n",
      "4               Virgin Islands        0        0        0        0        0   \n",
      "...                        ...      ...      ...      ...      ...      ...   \n",
      "3250                 Wisconsin        0        0        0        0        0   \n",
      "3251                   Wyoming        0        0        0        0        0   \n",
      "3252            Grand Princess        0        0        0        0        0   \n",
      "3253                  Michigan        0        0        0        0        0   \n",
      "3254                  Michigan        0        0        0        0        0   \n",
      "\n",
      "      1/27/20  1/28/20  1/29/20  1/30/20  ...  4/9/20  4/10/20  4/11/20  \\\n",
      "0           0        0        0        0  ...       0        0        0   \n",
      "1           0        0        0        0  ...     128      130      133   \n",
      "2           0        0        0        0  ...      11       11       11   \n",
      "3           0        0        0        0  ...     683      725      788   \n",
      "4           0        0        0        0  ...      45       50       51   \n",
      "...       ...      ...      ...      ...  ...     ...      ...      ...   \n",
      "3250        0        0        0        0  ...       0        0        0   \n",
      "3251        0        0        0        0  ...       0        0        0   \n",
      "3252        0        0        0        0  ...     103      103      103   \n",
      "3253        0        0        0        0  ...       0        0        0   \n",
      "3254        0        0        0        0  ...       0        0        0   \n",
      "\n",
      "      4/12/20  4/13/20  4/14/20  4/15/20  4/16/20  4/17/20  4/18/20  \n",
      "0           0        0        0        0        0        0        0  \n",
      "1         133      133      133      135      135      136      136  \n",
      "2          11       11       11       13       13       13       14  \n",
      "3         897      903      923      974     1043     1068     1118  \n",
      "4          51       51       51       51       51       51       53  \n",
      "...       ...      ...      ...      ...      ...      ...      ...  \n",
      "3250        0        0        1        1        0        0        0  \n",
      "3251        0        0        0        0        0        0        0  \n",
      "3252      103      103      103      103      103      103      103  \n",
      "3253        0      370      429      472      472      514      550  \n",
      "3254        0       21       23       36       36       44       45  \n",
      "\n",
      "[3255 rows x 89 columns]>\n",
      "(58, 89)\n",
      "[['Alabama' 0 0 0 0 0 0 0 0 0 0 0 0 0 0 0 0 0 0 0 0 0 0 0 0 0 0 0 0 0 0 0\n",
      "  0 0 0 0 0 0 0 0 0 0 0 0 0 0 0 0 0 0 0 0 5 7 11 29 39 51 78 106 131 157\n",
      "  196 242 381 517 587 694 825 899 987 1060 1233 1495 1614 1765 1952 2169\n",
      "  2328 2703 2947 3217 3563 3734 3953 4075 4345 4571 4712]\n",
      " ['Alaska' 0 0 0 0 0 0 0 0 0 0 0 0 0 0 0 0 0 0 0 0 0 0 0 0 0 0 0 0 0 0 0\n",
      "  0 0 0 0 0 0 0 0 0 0 0 0 0 0 0 0 0 0 0 0 1 1 1 1 3 5 8 11 13 18 30 34 41\n",
      "  56 58 85 102 114 119 132 143 157 171 185 190 213 226 235 246 257 272\n",
      "  277 285 293 300 309 314]\n",
      " ['American Samoa' 0 0 0 0 0 0 0 0 0 0 0 0 0 0 0 0 0 0 0 0 0 0 0 0 0 0 0\n",
      "  0 0 0 0 0 0 0 0 0 0 0 0 0 0 0 0 0 0 0 0 0 0 0 0 0 0 0 0 0 0 0 0 0 0 0 0\n",
      "  0 0 0 0 0 0 0 0 0 0 0 0 0 0 0 0 0 0 0 0 0 0 0 0 0]\n",
      " ['Arizona' 0 0 0 0 1 1 1 1 1 1 1 1 1 1 1 1 1 1 1 1 1 1 1 1 1 1 1 1 1 1 1\n",
      "  1 1 1 1 1 1 1 1 1 1 1 1 1 2 4 4 4 6 9 9 9 12 12 18 20 27 45 68 104 152\n",
      "  235 326 401 508 665 773 919 1157 1289 1530 1715 1937 2187 2486 2732\n",
      "  2870 3036 3018 3112 3393 3542 3705 3809 3964 4237 4511 4724]\n",
      " ['Arkansas' 0 0 0 0 0 0 0 0 0 0 0 0 0 0 0 0 0 0 0 0 0 0 0 0 0 0 0 0 0 0\n",
      "  0 0 0 0 0 0 0 0 0 0 0 0 0 0 0 0 0 0 0 0 0 9 12 3 3 3 4 62 100 122 165\n",
      "  192 219 280 335 381 409 426 473 523 584 643 704 743 837 875 946 1000\n",
      "  1119 1171 1228 1280 1410 1498 1569 1620 1695 1744]]\n"
     ]
    }
   ],
   "source": [
    "# extract 'Province_State' and dates in 'time_series_covid19_confirmed_US.csv' \n",
    "\n",
    "df_t = df.iloc[:,np.r_[6, 11:99]]   # column-6('Province_State'), column-11:99(dates)\n",
    "print(df_t.head)\n",
    "ystates = df_t.groupby(['Province_State']).sum().reset_index().to_numpy()  # sum sorted data. maintain 'Province_State' as a key\n",
    "print(ystates.shape)\n",
    "print(ystates[0:5])\n"
   ]
  },
  {
   "cell_type": "code",
   "execution_count": 7,
   "metadata": {},
   "outputs": [
    {
     "name": "stdout",
     "output_type": "stream",
     "text": [
      "58 88 [0 0 0 0 0 0 0 0 0 0 0 0 0 0 0 0 0 0 0 0 0 0 0 0 0 0 0 0 0 0 0 0 0 0 0 0 0\n",
      " 0 0 0 0 0 0 0 0 0 0 0 0 0 0 5 7 11 29 39 51 78 106 131 157 196 242 381\n",
      " 517 587 694 825 899 987 1060 1233 1495 1614 1765 1952 2169 2328 2703 2947\n",
      " 3217 3563 3734 3953 4075 4345 4571 4712]\n",
      "88 [[ 1]\n",
      " [ 2]\n",
      " [ 3]\n",
      " [ 4]\n",
      " [ 5]\n",
      " [ 6]\n",
      " [ 7]\n",
      " [ 8]\n",
      " [ 9]\n",
      " [10]\n",
      " [11]\n",
      " [12]\n",
      " [13]\n",
      " [14]\n",
      " [15]\n",
      " [16]\n",
      " [17]\n",
      " [18]\n",
      " [19]\n",
      " [20]\n",
      " [21]\n",
      " [22]\n",
      " [23]\n",
      " [24]\n",
      " [25]\n",
      " [26]\n",
      " [27]\n",
      " [28]\n",
      " [29]\n",
      " [30]\n",
      " [31]\n",
      " [32]\n",
      " [33]\n",
      " [34]\n",
      " [35]\n",
      " [36]\n",
      " [37]\n",
      " [38]\n",
      " [39]\n",
      " [40]\n",
      " [41]\n",
      " [42]\n",
      " [43]\n",
      " [44]\n",
      " [45]\n",
      " [46]\n",
      " [47]\n",
      " [48]\n",
      " [49]\n",
      " [50]\n",
      " [51]\n",
      " [52]\n",
      " [53]\n",
      " [54]\n",
      " [55]\n",
      " [56]\n",
      " [57]\n",
      " [58]\n",
      " [59]\n",
      " [60]\n",
      " [61]\n",
      " [62]\n",
      " [63]\n",
      " [64]\n",
      " [65]\n",
      " [66]\n",
      " [67]\n",
      " [68]\n",
      " [69]\n",
      " [70]\n",
      " [71]\n",
      " [72]\n",
      " [73]\n",
      " [74]\n",
      " [75]\n",
      " [76]\n",
      " [77]\n",
      " [78]\n",
      " [79]\n",
      " [80]\n",
      " [81]\n",
      " [82]\n",
      " [83]\n",
      " [84]\n",
      " [85]\n",
      " [86]\n",
      " [87]\n",
      " [88]]\n",
      "(58, 2) [['Alabama' 36.77927939136072]\n",
      " ['Alaska' 2.9638666179071045]\n",
      " ['American Samoa' -0.0]\n",
      " ['Arizona' 36.988735546039976]\n",
      " ['Arkansas' 14.764326764598634]\n",
      " ['California' 272.49485260191204]\n",
      " ['Colorado' 75.88416613333276]\n",
      " ['Connecticut' 129.72679882942546]\n",
      " ['Delaware' 15.905981638600199]\n",
      " ['Diamond Princess' 0.8107934573124185]\n",
      " ['District of Columbia' 19.745598404318166]\n",
      " ['Florida' 202.51356514046356]\n",
      " ['Georgia' 131.22251829591974]\n",
      " ['Grand Princess' 1.3955638193728113]\n",
      " ['Guam' 1.4445656637568762]\n",
      " ['Hawaii' 5.331351822461697]\n",
      " ['Idaho' 14.548372560098997]\n",
      " ['Illinois' 225.6420611621333]\n",
      " ['Indiana' 86.13127951249965]\n",
      " ['Iowa' 15.373992018622097]\n",
      " ['Kansas' 13.807379559368858]\n",
      " ['Kentucky' 20.05519160924613]\n",
      " ['Louisiana' 233.87252091389266]\n",
      " ['Maine' 7.852757287886254]\n",
      " ['Maryland' 80.5464154545638]\n",
      " ['Massachusetts' 280.17900514464094]\n",
      " ['Michigan' 244.41918263996087]\n",
      " ['Minnesota' 17.229274337154628]\n",
      " ['Mississippi' 29.143560174321156]\n",
      " ['Missouri' 44.26765374498626]\n",
      " ['Montana' 4.60282063993491]\n",
      " ['Nebraska' 7.836126404533661]\n",
      " ['Nevada' 32.0366672738453]\n",
      " ['New Hampshire' 9.670262922568384]\n",
      " ['New Jersey' 627.5407800674461]\n",
      " ['New Mexico' 13.748387911380474]\n",
      " ['New York' 2136.811564067467]\n",
      " ['North Carolina' 46.12694462703853]\n",
      " ['North Dakota' 3.841013866870752]\n",
      " ['Northern Mariana Islands' 0.10761004471202033]\n",
      " ['Ohio' 73.57170427693208]\n",
      " ['Oklahoma' 19.14366049232679]\n",
      " ['Oregon' 16.560110814778053]\n",
      " ['Pennsylvania' 228.92301792829952]\n",
      " ['Puerto Rico' 8.663026973919258]\n",
      " ['Rhode Island' 17.030879100676437]\n",
      " ['South Carolina' 35.05936494314524]\n",
      " ['South Dakota' 6.42005888240888]\n",
      " ['Tennessee' 61.675577845617084]\n",
      " ['Texas' 154.93185090899738]\n",
      " ['Utah' 24.256764968811833]\n",
      " ['Vermont' 8.1786322347175]\n",
      " ['Virgin Islands' 0.6096380265066104]\n",
      " ['Virginia' 61.11451322695326]\n",
      " ['Washington' 117.1369881416659]\n",
      " ['West Virginia' 6.391044416431854]\n",
      " ['Wisconsin' 37.23753245063576]\n",
      " ['Wyoming' 2.7785278242658915]]\n"
     ]
    }
   ],
   "source": [
    "# getting 'graident(coef_) of Linear regression' for each state\n",
    "\n",
    "yt = ystates[:, 1:89]   # rows in range(column_date)\n",
    "print(yt.shape[0], yt.shape[1], yt[0])\n",
    "\n",
    "Xt = np.array(range(1, yt.shape[1]+1)).reshape(-1, 1)     # 1 ~ 88\n",
    "print(len(Xt), Xt)\n",
    "Xt = Xt.reshape(-1, 1)   # reshape to (N, 1)\n",
    "\n",
    "np.random.seed(551)  \n",
    "\n",
    "state_grad = np.array([[' ', 0]], dtype=object)  # (1, 2)\n",
    "\n",
    "for i in range(0, len(yt)) :\n",
    "    Xt_train, Xt_test, yt_train, yt_test = train_test_split(Xt, yt[i], test_size=0.2)\n",
    "    # Linear Regression    \n",
    "    Lin_reg = LinearRegression().fit(Xt_train, yt_train)\n",
    "    #print('--coefficients:', ystates[i, 0], '-', Lin_reg.coef_)   # gradient \n",
    "    #print('Model Score : ', Lin_reg.score(Xt_test, yt_test))\n",
    "    arr = [[ystates[i,0], float(Lin_reg.coef_)]]\n",
    "    state_grad = np.vstack((state_grad , np.array(arr, object))) \n",
    "    \n",
    "state_grad = np.delete(state_grad, 0, axis=0)  \n",
    "print(state_grad.shape, state_grad)\n"
   ]
  },
  {
   "cell_type": "code",
   "execution_count": 8,
   "metadata": {},
   "outputs": [],
   "source": [
    "### merge necessary field data with 'dfc_us', 'dfp_s' and 'state_grad' \n",
    "# 'StateName', 'PopulationEstimate2018', ,'People_Tested', 'Confirmed', 'Gradient'\n",
    "\n",
    "merged = np.array([[' ', 0, 0, 0, 0]], dtype=object)  # (1, 4)\n",
    "#print(merged.shape)\n",
    "\n",
    "\n",
    "for i in range(0, len(dfc_us)):\n",
    "    findstate = np.where(States[:,0] == dfc_us.iloc[i,0])  # check 'Province_State' with full name of States\n",
    "    #print(findstate[0], len(findstate[0]))\n",
    "    if  len(findstate[0]) > 0 :\n",
    "        #print(dfc_us.iloc[i,0], dfc_us.iloc[i,1], dfc_us.iloc[i,2], findstate[0], States[findstate[0],1])\n",
    "        findstated = np.where(dfp_s_sum[:,0] == States[findstate[0],1])  # check 'StateName' with short name of States\n",
    "        if  len(findstated[0]) > 0 :\n",
    "            #print(dfp_s_sum[findstated[0],0], dfp_s_sum[findstated[0],1])\n",
    "            findstateg = np.where(state_grad[:,0] == States[findstate[0],0])  # # check 'Province_State' with full name          \n",
    "            #print( States[findstate[0],0], state_grad[findstateg[0],0], state_grad[findstateg[0],1] )\n",
    "            if len(findstateg[0]) > 0 :\n",
    "\n",
    "                ### append a row as 'StateName', 'PopulationEstimate2018', ,'People_Tested', 'Confirmed', 'Grdient(coef_)'\n",
    "                arr = [[' '.join(map(str, dfp_s_sum[findstated[0],0])), int(dfp_s_sum[findstated[0],1]),\n",
    "                       int(dfc_us.iloc[i,2]), int(dfc_us.iloc[i,1]), float(state_grad[findstateg[0],1])]]\n",
    "                merged = np.vstack((merged, np.array(arr, object)))\n",
    "\n",
    "\n",
    "merged = np.delete(merged, 0, axis=0)  \n",
    "#print(merged.shape)\n",
    "#print(merged[2,0], merged[2,1],merged[2,2],merged[2,3])\n",
    "merged = merged[merged[:, 1].argsort()]  # columnIndex : 1 / sort ascendinng order\n",
    "#print(merged)\n"
   ]
  },
  {
   "cell_type": "code",
   "execution_count": 9,
   "metadata": {},
   "outputs": [
    {
     "data": {
      "image/png": "[encoded data removed]",
      "text/plain": [
       "<Figure size 576x432 with 2 Axes>"
      ]
     },
     "metadata": {
      "needs_background": "light"
     },
     "output_type": "display_data"
    }
   ],
   "source": [
    "### 1. plot : Population   &  People_Tested vs. Confirmed \n",
    "\n",
    "plt.figure(figsize=(8,6)) \n",
    "plt.subplot(2,1,1)\n",
    "plt.title('[Polulation (US)]', fontsize=12)\n",
    "plt.ylabel('Polulation')\n",
    "plt.xlabel('States (US)')\n",
    "plt.xticks(fontsize=6.5, rotation=70)\n",
    "plt.yticks(fontsize=8)\n",
    "plt.tight_layout(pad=2.8, h_pad=0.1, w_pad=0.2) \n",
    "## merged : 'StateName', 'PopulationEstimate2018', 'People_Tested', 'Confirmed', 'Gradient'\n",
    "plt.bar(merged[:,0], merged[:,1], width = 0.8)\n",
    "\n",
    "plt.subplot(2,1,2)\n",
    "plt.title('[People_Tested / Virus Confirmed]', fontsize=12)\n",
    "plt.ylabel('Cases')\n",
    "plt.xlabel('States(US)')\n",
    "plt.xticks(fontsize=6.5, rotation=70)\n",
    "plt.yticks(fontsize=8)\n",
    "plt.tight_layout(pad=2.8, h_pad=0.1, w_pad=0.2) \n",
    "## merged : 'StateName', 'PopulationEstimate2018', 'People_Tested', 'Confirmed', 'Gradient'\n",
    "plt.bar(merged[:,0], merged[:,2], width = 0.9, label='People_Tested')\n",
    "plt.bar(merged[:,0], merged[:,3], width = 0.6, label='Virus Confirmed')\n",
    "plt.legend(loc='upper left')\n",
    "plt.subplots_adjust(hspace=0.5)\n",
    "plt.show()"
   ]
  },
  {
   "cell_type": "code",
   "execution_count": 10,
   "metadata": {},
   "outputs": [
    {
     "name": "stdout",
     "output_type": "stream",
     "text": [
      "Coefficients: [ 2.30286895e-05 -4.06466858e-13]\n",
      "Model Score : 0.1262414757288023\n"
     ]
    }
   ],
   "source": [
    "### 2. Analyze if there is a relationship between Polulation and spreadinng speed of corona virus\n",
    "## Try to estimate spreadinng speed of each state using 'graident(coef_) of Linear regression' \n",
    "\n",
    "np.random.seed(2)  \n",
    "Xm = merged[:, 1].reshape(-1, 1)  # get population of state\n",
    "ym = merged[:, 4]                # get gradient of state\n",
    "#print(Xm, ym)\n",
    "\n",
    "Xm_train, Xm_test, ym_train, ym_test = train_test_split(Xm, ym, test_size=0.2)\n",
    "poly_feature = PolynomialFeatures(degree=2, include_bias=False)\n",
    "XXm = poly_feature.fit_transform(Xm_train)    #  makes to  x^2    \n",
    "#print(XXm)\n",
    "\n",
    "NLin_XX_regm = LinearRegression().fit(XXm, ym_train)  # Non Linear Regression\n",
    "Lin_ym = NLin_XX_regm.predict(XXm)\n",
    "print('Coefficients:', NLin_XX_regm.coef_ )   # gradient \n",
    "XXt = poly_feature.fit_transform(Xm_test)    #  makes to  x^2  \n",
    "print('Model Score :', NLin_XX_regm.score(XXt, ym_test))"
   ]
  },
  {
   "cell_type": "code",
   "execution_count": 11,
   "metadata": {},
   "outputs": [
    {
     "data": {
      "image/png": "[encoded data removed]",
      "text/plain": [
       "<Figure size 432x288 with 1 Axes>"
      ]
     },
     "metadata": {
      "needs_background": "light"
     },
     "output_type": "display_data"
    },
    {
     "name": "stdout",
     "output_type": "stream",
     "text": [
      "51 [5.77737000e+05 2.77852782e+00] [3.95570450e+07 2.13681156e+03] (0, 1)\n",
      "[[0.00000000e+00 0.00000000e+00]\n",
      " [1.24584049e-03 2.53046898e-03]\n",
      " [3.19959503e-03 7.95070662e-03]\n",
      " [4.09707119e-03 8.68490743e-05]\n",
      " [4.67786652e-03 4.97877036e-04]\n",
      " [7.44469348e-03 1.70640801e-03]\n",
      " [9.99078793e-03 6.15147638e-03]\n",
      " [1.23033995e-02 6.67859918e-03]\n",
      " [1.24314162e-02 8.54856876e-04]\n",
      " [1.95146358e-02 2.37776519e-03]\n",
      " [1.99778046e-02 3.22944162e-03]\n",
      " [2.16205480e-02 1.19624390e-03]\n",
      " [3.01819365e-02 5.51530578e-03]\n",
      " [3.15063315e-02 1.69281193e-03]\n",
      " [3.46730373e-02 2.36997202e-03]\n",
      " [3.89358118e-02 5.14043593e-03]\n",
      " [5.98719710e-02 5.16807919e-03]\n",
      " [6.17967102e-02 1.23545568e-02]\n",
      " [6.24969535e-02 5.61650112e-03]\n",
      " [6.30245924e-02 1.37102561e-02]\n",
      " [6.61481215e-02 5.90218801e-03]\n",
      " [6.62753685e-02 1.00646226e-02]\n",
      " [7.68337909e-02 5.94874910e-02]\n",
      " [8.63366276e-02 7.66864073e-03]\n",
      " [9.26895880e-02 6.45799890e-03]\n",
      " [9.98135985e-02 8.09578085e-03]\n",
      " [1.04728411e-01 1.08289792e-01]\n",
      " [1.10574923e-01 1.59326266e-02]\n",
      " [1.15609800e-01 1.51266811e-02]\n",
      " [1.29131128e-01 6.77156645e-03]\n",
      " [1.31295994e-01 3.42570321e-02]\n",
      " [1.34323344e-01 1.61473623e-02]\n",
      " [1.40202104e-01 3.64417450e-02]\n",
      " [1.42350270e-01 1.94416512e-02]\n",
      " [1.56856068e-01 3.90587916e-02]\n",
      " [1.58860516e-01 2.75989401e-02]\n",
      " [1.62250495e-01 1.29988839e-01]\n",
      " [1.69164342e-01 1.60307770e-02]\n",
      " [1.78501219e-01 5.35879522e-02]\n",
      " [2.03696484e-01 2.73360273e-02]\n",
      " [2.13723214e-01 2.92761284e-01]\n",
      " [2.41619938e-01 1.13231918e-01]\n",
      " [2.51566370e-01 2.03129080e-02]\n",
      " [2.55051680e-01 6.01883796e-02]\n",
      " [2.85066759e-01 3.31734211e-02]\n",
      " [3.12046150e-01 1.04433029e-01]\n",
      " [3.13738843e-01 1.05970473e-01]\n",
      " [4.86526646e-01 1.00000000e+00]\n",
      " [5.31604820e-01 9.35951009e-02]\n",
      " [7.21513784e-01 7.12984853e-02]\n",
      " [1.00000000e+00 1.26388074e-01]]\n"
     ]
    },
    {
     "data": {
      "image/png": "[encoded data removed]",
      "text/plain": [
       "<Figure size 432x288 with 1 Axes>"
      ]
     },
     "metadata": {
      "needs_background": "light"
     },
     "output_type": "display_data"
    }
   ],
   "source": [
    "## plot \n",
    "plt.title('Population (US) vs. Spreadinng speed of covid19 virus', fontsize=12)\n",
    "plt.ylabel('Spreadinng speed(Linear coef_)')\n",
    "plt.xlabel('Population: States-ascendinng order')\n",
    "plt.tight_layout(pad=1, h_pad=0.2, w_pad=0.2) \n",
    "plt.scatter(Xm_train, ym_train, color = 'green', label='Raw data(Population vs. Virus Confirmed)')\n",
    "plt.scatter(Xm_train, Lin_ym, marker='.', color = 'red', linewidth=1.2, label='Prediction-NonLinear') \n",
    "plt.legend(loc='upper left')\n",
    "plt.show()\n",
    "\n",
    "### Check Transformation : MinMaxScaler \n",
    "mimx = MinMaxScaler()\n",
    "sarr = merged[:, np.r_[1, 4]]      \n",
    "scaler = mimx.fit(sarr)        \n",
    "print(scaler.n_samples_seen_, scaler.data_min_, scaler.data_max_, scaler.feature_range)\n",
    "mer_minmax = scaler.transform(sarr)  \n",
    "print(mer_minmax)\n",
    "plt.scatter(mer_minmax[:, 0], mer_minmax[:, 1], marker='.', color = 'red', linewidth=1.5) \n",
    "plt.show()"
   ]
  },
  {
   "cell_type": "code",
   "execution_count": 12,
   "metadata": {},
   "outputs": [
    {
     "data": {
      "text/html": [
       "<div>\n",
       "<style scoped>\n",
       "    .dataframe tbody tr th:only-of-type {\n",
       "        vertical-align: middle;\n",
       "    }\n",
       "\n",
       "    .dataframe tbody tr th {\n",
       "        vertical-align: top;\n",
       "    }\n",
       "\n",
       "    .dataframe thead th {\n",
       "        text-align: right;\n",
       "    }\n",
       "</style>\n",
       "<table border=\"1\" class=\"dataframe\">\n",
       "  <thead>\n",
       "    <tr style=\"text-align: right;\">\n",
       "      <th></th>\n",
       "      <th>UID</th>\n",
       "      <th>iso2</th>\n",
       "      <th>iso3</th>\n",
       "      <th>code3</th>\n",
       "      <th>FIPS</th>\n",
       "      <th>Admin2</th>\n",
       "      <th>Province_State</th>\n",
       "      <th>Country_Region</th>\n",
       "      <th>Lat</th>\n",
       "      <th>Long_</th>\n",
       "      <th>...</th>\n",
       "      <th>4/9/20</th>\n",
       "      <th>4/10/20</th>\n",
       "      <th>4/11/20</th>\n",
       "      <th>4/12/20</th>\n",
       "      <th>4/13/20</th>\n",
       "      <th>4/14/20</th>\n",
       "      <th>4/15/20</th>\n",
       "      <th>4/16/20</th>\n",
       "      <th>4/17/20</th>\n",
       "      <th>4/18/20</th>\n",
       "    </tr>\n",
       "  </thead>\n",
       "  <tbody>\n",
       "    <tr>\n",
       "      <th>0</th>\n",
       "      <td>16</td>\n",
       "      <td>AS</td>\n",
       "      <td>ASM</td>\n",
       "      <td>16</td>\n",
       "      <td>60.0</td>\n",
       "      <td>NaN</td>\n",
       "      <td>American Samoa</td>\n",
       "      <td>US</td>\n",
       "      <td>-14.2710</td>\n",
       "      <td>-170.1320</td>\n",
       "      <td>...</td>\n",
       "      <td>0</td>\n",
       "      <td>0</td>\n",
       "      <td>0</td>\n",
       "      <td>0</td>\n",
       "      <td>0</td>\n",
       "      <td>0</td>\n",
       "      <td>0</td>\n",
       "      <td>0</td>\n",
       "      <td>0</td>\n",
       "      <td>0</td>\n",
       "    </tr>\n",
       "    <tr>\n",
       "      <th>1</th>\n",
       "      <td>316</td>\n",
       "      <td>GU</td>\n",
       "      <td>GUM</td>\n",
       "      <td>316</td>\n",
       "      <td>66.0</td>\n",
       "      <td>NaN</td>\n",
       "      <td>Guam</td>\n",
       "      <td>US</td>\n",
       "      <td>13.4443</td>\n",
       "      <td>144.7937</td>\n",
       "      <td>...</td>\n",
       "      <td>128</td>\n",
       "      <td>130</td>\n",
       "      <td>133</td>\n",
       "      <td>133</td>\n",
       "      <td>133</td>\n",
       "      <td>133</td>\n",
       "      <td>135</td>\n",
       "      <td>135</td>\n",
       "      <td>136</td>\n",
       "      <td>136</td>\n",
       "    </tr>\n",
       "    <tr>\n",
       "      <th>2</th>\n",
       "      <td>580</td>\n",
       "      <td>MP</td>\n",
       "      <td>MNP</td>\n",
       "      <td>580</td>\n",
       "      <td>69.0</td>\n",
       "      <td>NaN</td>\n",
       "      <td>Northern Mariana Islands</td>\n",
       "      <td>US</td>\n",
       "      <td>15.0979</td>\n",
       "      <td>145.6739</td>\n",
       "      <td>...</td>\n",
       "      <td>11</td>\n",
       "      <td>11</td>\n",
       "      <td>11</td>\n",
       "      <td>11</td>\n",
       "      <td>11</td>\n",
       "      <td>11</td>\n",
       "      <td>13</td>\n",
       "      <td>13</td>\n",
       "      <td>13</td>\n",
       "      <td>14</td>\n",
       "    </tr>\n",
       "    <tr>\n",
       "      <th>3</th>\n",
       "      <td>630</td>\n",
       "      <td>PR</td>\n",
       "      <td>PRI</td>\n",
       "      <td>630</td>\n",
       "      <td>72.0</td>\n",
       "      <td>NaN</td>\n",
       "      <td>Puerto Rico</td>\n",
       "      <td>US</td>\n",
       "      <td>18.2208</td>\n",
       "      <td>-66.5901</td>\n",
       "      <td>...</td>\n",
       "      <td>683</td>\n",
       "      <td>725</td>\n",
       "      <td>788</td>\n",
       "      <td>897</td>\n",
       "      <td>903</td>\n",
       "      <td>923</td>\n",
       "      <td>974</td>\n",
       "      <td>1043</td>\n",
       "      <td>1068</td>\n",
       "      <td>1118</td>\n",
       "    </tr>\n",
       "    <tr>\n",
       "      <th>4</th>\n",
       "      <td>850</td>\n",
       "      <td>VI</td>\n",
       "      <td>VIR</td>\n",
       "      <td>850</td>\n",
       "      <td>78.0</td>\n",
       "      <td>NaN</td>\n",
       "      <td>Virgin Islands</td>\n",
       "      <td>US</td>\n",
       "      <td>18.3358</td>\n",
       "      <td>-64.8963</td>\n",
       "      <td>...</td>\n",
       "      <td>45</td>\n",
       "      <td>50</td>\n",
       "      <td>51</td>\n",
       "      <td>51</td>\n",
       "      <td>51</td>\n",
       "      <td>51</td>\n",
       "      <td>51</td>\n",
       "      <td>51</td>\n",
       "      <td>51</td>\n",
       "      <td>53</td>\n",
       "    </tr>\n",
       "  </tbody>\n",
       "</table>\n",
       "<p>5 rows × 99 columns</p>\n",
       "</div>"
      ],
      "text/plain": [
       "   UID iso2 iso3  code3  FIPS Admin2            Province_State Country_Region  \\\n",
       "0   16   AS  ASM     16  60.0    NaN            American Samoa             US   \n",
       "1  316   GU  GUM    316  66.0    NaN                      Guam             US   \n",
       "2  580   MP  MNP    580  69.0    NaN  Northern Mariana Islands             US   \n",
       "3  630   PR  PRI    630  72.0    NaN               Puerto Rico             US   \n",
       "4  850   VI  VIR    850  78.0    NaN            Virgin Islands             US   \n",
       "\n",
       "       Lat     Long_  ... 4/9/20  4/10/20  4/11/20  4/12/20  4/13/20  4/14/20  \\\n",
       "0 -14.2710 -170.1320  ...      0        0        0        0        0        0   \n",
       "1  13.4443  144.7937  ...    128      130      133      133      133      133   \n",
       "2  15.0979  145.6739  ...     11       11       11       11       11       11   \n",
       "3  18.2208  -66.5901  ...    683      725      788      897      903      923   \n",
       "4  18.3358  -64.8963  ...     45       50       51       51       51       51   \n",
       "\n",
       "   4/15/20  4/16/20  4/17/20  4/18/20  \n",
       "0        0        0        0        0  \n",
       "1      135      135      136      136  \n",
       "2       13       13       13       14  \n",
       "3      974     1043     1068     1118  \n",
       "4       51       51       51       53  \n",
       "\n",
       "[5 rows x 99 columns]"
      ]
     },
     "execution_count": 12,
     "metadata": {},
     "output_type": "execute_result"
    }
   ],
   "source": [
    "#read csv file called \"time_series_covid19_confirmed_US\"\n",
    "df = pd.read_csv(\"time_series_covid19_confirmed_US.csv\")\n",
    "df.head(5)"
   ]
  },
  {
   "cell_type": "code",
   "execution_count": 13,
   "metadata": {},
   "outputs": [
    {
     "name": "stdout",
     "output_type": "stream",
     "text": [
      "(88,)\n"
     ]
    }
   ],
   "source": [
    "y = df.iloc[:, 11:99].sum(axis=0)  # sum rows in range(column_date)\n",
    "X = np.array(range(1, len(y)+1))  # 1 ~ 88\n",
    "Xr = X.reshape(-1, 1)   # reshape to (N, 1)\n",
    "print(X.shape)"
   ]
  },
  {
   "cell_type": "code",
   "execution_count": 14,
   "metadata": {},
   "outputs": [
    {
     "name": "stdout",
     "output_type": "stream",
     "text": [
      "(66,) (22,)\n"
     ]
    }
   ],
   "source": [
    "np.random.seed(511)  \n",
    "X_train, X_test, y_train, y_test = train_test_split(\n",
    "    Xr, y, test_size=0.25)\n",
    "print(y_train.shape, y_test.shape)"
   ]
  },
  {
   "cell_type": "code",
   "execution_count": 15,
   "metadata": {},
   "outputs": [
    {
     "name": "stdout",
     "output_type": "stream",
     "text": [
      "[Linear Model]\n",
      "--intercept: -155377.5730971177\n",
      "--coefficients: [6211.04337756]\n",
      "Linear Model Score :  0.1281058926943508\n"
     ]
    }
   ],
   "source": [
    "###Linear Regression   \n",
    "Lin_reg = LinearRegression().fit(X_train, y_train)\n",
    "Lin_y = Lin_reg.predict(X_train)\n",
    "print('[Linear Model]')\n",
    "print('--intercept:', Lin_reg.intercept_)  \n",
    "print('--coefficients:', Lin_reg.coef_)\n",
    "print(\"Linear Model Score : \", Lin_reg.score(X_test, y_test))"
   ]
  },
  {
   "cell_type": "code",
   "execution_count": 16,
   "metadata": {},
   "outputs": [
    {
     "name": "stdout",
     "output_type": "stream",
     "text": [
      "Non-Linear Model(x^2) Score :  0.6380271666860843\n"
     ]
    }
   ],
   "source": [
    "### Non Linear Regression : x^2 \n",
    "poly_feature = PolynomialFeatures(degree=2, include_bias=False)\n",
    "XX = poly_feature.fit_transform(X_train)    #  makes to  x^2    \n",
    "NLin_XX_reg = LinearRegression().fit(XX, y_train)  # Linear Regression \n",
    "Nxxy = NLin_XX_reg.predict(XX)\n",
    "#print('[Non-Linear Model(x^2)]')\n",
    "#print('--intercept:', NLin_XX_reg.intercept_)  # check \n",
    "#print('--coefficients:', NLin_XX_reg.coef_)\n",
    "XX_test = poly_feature.fit_transform(X_test)    #  makes to n x^2\n",
    "print(\"Non-Linear Model(x^2) Score : \", NLin_XX_reg.score(XX_test, y_test))"
   ]
  },
  {
   "cell_type": "code",
   "execution_count": 17,
   "metadata": {},
   "outputs": [
    {
     "name": "stdout",
     "output_type": "stream",
     "text": [
      "Non-Linear Model(x^3) :  0.9769774198406431\n"
     ]
    }
   ],
   "source": [
    "### Non Linear Regression x^3 \n",
    "#poly_feature = PolynomialFeatures(degree=2, include_bias=False)\n",
    "#XX = poly_feature.fit_transform(X_train)    #  makes to  x^2 \n",
    "\n",
    "XXX = poly_feature.fit_transform(XX)    #  makes to x^3    \n",
    "NLin_XXX_reg = LinearRegression().fit(XXX, y_train)  # Linear Regression \n",
    "Nxxxy = NLin_XXX_reg.predict(XXX)\n",
    "#print('[Non-Linear Model(x^3)]')\n",
    "#print('--intercept:', NLin_XXX_reg.intercept_)  # check \n",
    "#print('--coefficients:', NLin_XXX_reg.coef_)\n",
    "XXX_test = poly_feature.fit_transform(XX_test)    #  makes to  x^3\n",
    "print(\"Non-Linear Model(x^3) : \", NLin_XXX_reg.score(XXX_test, y_test))"
   ]
  },
  {
   "cell_type": "code",
   "execution_count": 18,
   "metadata": {},
   "outputs": [
    {
     "name": "stdout",
     "output_type": "stream",
     "text": [
      "Predic Future: 1502791\n"
     ]
    }
   ],
   "source": [
    "# predict future using Non Linear Regression x^3 ##############\n",
    "FX = np.array([100])  # predict 'Total number of virus confirmed' \n",
    "#after 100 days after 1/22/20 \n",
    "FX = FX.reshape(-1, 1) \n",
    "FXX = poly_feature.fit_transform(FX)    #  makes to  x^2 \n",
    "FXXX = poly_feature.fit_transform(FXX)    #  makes to  x^3   \n",
    "print('Predic Future:', int(NLin_XXX_reg.predict(FXXX))) "
   ]
  },
  {
   "cell_type": "code",
   "execution_count": 19,
   "metadata": {},
   "outputs": [
    {
     "data": {
      "image/png": "[encoded data removed]",
      "text/plain": [
       "<Figure size 432x288 with 1 Axes>"
      ]
     },
     "metadata": {
      "needs_background": "light"
     },
     "output_type": "display_data"
    }
   ],
   "source": [
    "## plot \n",
    "plt.title('Covid19 Virus (US) Regression  : 1/22/20 ~ 4/18/20', fontsize=12)\n",
    "plt.ylabel('Number of confirmed cases')\n",
    "plt.xlabel('Days since first confirmed case')\n",
    "plt.tight_layout(pad=4, h_pad=0.2, w_pad=0.2) \n",
    "line1 = plt.scatter(X_train, y_train, color = 'yellow', label='Raw data(Virus Confirmed)')\n",
    "line2 = plt.scatter(X_train, Lin_y, marker='.', color = 'blue', linewidths=0.3, label='Linear') # Linear \n",
    "line3 = plt.scatter(X_train, Nxxy, marker='.', color = 'green', linewidths=0.3, label='Non Linear-x^2')  # Non-Linear  x^2\n",
    "line4 = plt.scatter(X_train, Nxxxy, marker='*',color = 'red', linewidths=0.5, label='Non Linear-x^3')       # Non-Linear  x^3\n",
    "plt.legend(loc='upper left')\n",
    "plt.show()"
   ]
  }
 ],
 "metadata": {
  "kernelspec": {
   "display_name": "Python 3",
   "language": "python",
   "name": "python3"
  },
  "language_info": {
   "codemirror_mode": {
    "name": "ipython",
    "version": 3
   },
   "file_extension": ".py",
   "mimetype": "text/x-python",
   "name": "python",
   "nbconvert_exporter": "python",
   "pygments_lexer": "ipython3",
   "version": "3.8.5"
  }
 },
 "nbformat": 4,
 "nbformat_minor": 4
}
